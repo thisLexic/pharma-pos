{
 "cells": [
  {
   "cell_type": "code",
   "execution_count": 1,
   "id": "subsequent-burke",
   "metadata": {},
   "outputs": [],
   "source": [
    "import numpy as np\n",
    "import pandas as pd"
   ]
  },
  {
   "cell_type": "code",
   "execution_count": 2,
   "id": "indian-cause",
   "metadata": {},
   "outputs": [],
   "source": [
    "data_entry = pd.read_csv('unclean/data_entry.csv')"
   ]
  },
  {
   "cell_type": "code",
   "execution_count": 3,
   "id": "focused-guatemala",
   "metadata": {},
   "outputs": [
    {
     "data": {
      "text/html": [
       "<div>\n",
       "<style scoped>\n",
       "    .dataframe tbody tr th:only-of-type {\n",
       "        vertical-align: middle;\n",
       "    }\n",
       "\n",
       "    .dataframe tbody tr th {\n",
       "        vertical-align: top;\n",
       "    }\n",
       "\n",
       "    .dataframe thead th {\n",
       "        text-align: right;\n",
       "    }\n",
       "</style>\n",
       "<table border=\"1\" class=\"dataframe\">\n",
       "  <thead>\n",
       "    <tr style=\"text-align: right;\">\n",
       "      <th></th>\n",
       "      <th>Size</th>\n",
       "      <th>Type</th>\n",
       "      <th>Branded Name</th>\n",
       "      <th>Generic Name</th>\n",
       "      <th>part_no</th>\n",
       "    </tr>\n",
       "  </thead>\n",
       "  <tbody>\n",
       "    <tr>\n",
       "      <th>0</th>\n",
       "      <td>200 mg</td>\n",
       "      <td>tablet</td>\n",
       "      <td>NaN</td>\n",
       "      <td>aciclovir</td>\n",
       "      <td>1</td>\n",
       "    </tr>\n",
       "    <tr>\n",
       "      <th>1</th>\n",
       "      <td>100 mg</td>\n",
       "      <td>tablet</td>\n",
       "      <td>NaN</td>\n",
       "      <td>allopurinol</td>\n",
       "      <td>2</td>\n",
       "    </tr>\n",
       "    <tr>\n",
       "      <th>2</th>\n",
       "      <td>300 mg</td>\n",
       "      <td>tablet</td>\n",
       "      <td>NaN</td>\n",
       "      <td>allopurinol</td>\n",
       "      <td>3</td>\n",
       "    </tr>\n",
       "    <tr>\n",
       "      <th>3</th>\n",
       "      <td>15 mg/60 ml</td>\n",
       "      <td>syrup</td>\n",
       "      <td>mucosolve</td>\n",
       "      <td>ambroxol</td>\n",
       "      <td>4</td>\n",
       "    </tr>\n",
       "    <tr>\n",
       "      <th>4</th>\n",
       "      <td>30 mg/60 ml</td>\n",
       "      <td>syrup</td>\n",
       "      <td>mucosolve</td>\n",
       "      <td>ambroxol</td>\n",
       "      <td>5</td>\n",
       "    </tr>\n",
       "    <tr>\n",
       "      <th>5</th>\n",
       "      <td>125 mg/60 ml</td>\n",
       "      <td>syrup</td>\n",
       "      <td>cisflem</td>\n",
       "      <td>carbo</td>\n",
       "      <td>6</td>\n",
       "    </tr>\n",
       "  </tbody>\n",
       "</table>\n",
       "</div>"
      ],
      "text/plain": [
       "           Size    Type Branded Name Generic Name  part_no\n",
       "0        200 mg  tablet          NaN    aciclovir        1\n",
       "1        100 mg  tablet          NaN  allopurinol        2\n",
       "2        300 mg  tablet          NaN  allopurinol        3\n",
       "3   15 mg/60 ml   syrup    mucosolve     ambroxol        4\n",
       "4   30 mg/60 ml   syrup    mucosolve     ambroxol        5\n",
       "5  125 mg/60 ml   syrup      cisflem        carbo        6"
      ]
     },
     "execution_count": 3,
     "metadata": {},
     "output_type": "execute_result"
    }
   ],
   "source": [
    "data_entry"
   ]
  },
  {
   "cell_type": "code",
   "execution_count": 4,
   "id": "early-raising",
   "metadata": {},
   "outputs": [],
   "source": [
    "clean_type_values = data_entry['Type'].unique()"
   ]
  },
  {
   "cell_type": "code",
   "execution_count": 5,
   "id": "printable-dominant",
   "metadata": {},
   "outputs": [],
   "source": [
    "clean_type = pd.DataFrame(clean_type_values).rename(columns={0: 'Type'})"
   ]
  },
  {
   "cell_type": "code",
   "execution_count": 6,
   "id": "apart-wildlife",
   "metadata": {},
   "outputs": [],
   "source": [
    "clean_type.to_excel('clean/type.xlsx',sheet_name='type')"
   ]
  },
  {
   "cell_type": "code",
   "execution_count": null,
   "id": "correct-forge",
   "metadata": {},
   "outputs": [],
   "source": []
  }
 ],
 "metadata": {
  "kernelspec": {
   "display_name": "Python 3",
   "language": "python",
   "name": "python3"
  },
  "language_info": {
   "codemirror_mode": {
    "name": "ipython",
    "version": 3
   },
   "file_extension": ".py",
   "mimetype": "text/x-python",
   "name": "python",
   "nbconvert_exporter": "python",
   "pygments_lexer": "ipython3",
   "version": "3.8.5"
  }
 },
 "nbformat": 4,
 "nbformat_minor": 5
}
