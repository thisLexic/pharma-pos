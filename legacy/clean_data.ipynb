{
 "cells": [
  {
   "cell_type": "code",
   "execution_count": 1,
   "id": "subsequent-burke",
   "metadata": {},
   "outputs": [],
   "source": [
    "import numpy as np\n",
    "import pandas as pd"
   ]
  },
  {
   "cell_type": "code",
   "execution_count": 2,
   "id": "french-fitness",
   "metadata": {},
   "outputs": [],
   "source": [
    "data_entry = pd.read_csv('unclean/data_entry.csv')"
   ]
  },
  {
   "cell_type": "code",
   "execution_count": 3,
   "id": "falling-bunny",
   "metadata": {},
   "outputs": [
    {
     "data": {
      "text/html": [
       "<div>\n",
       "<style scoped>\n",
       "    .dataframe tbody tr th:only-of-type {\n",
       "        vertical-align: middle;\n",
       "    }\n",
       "\n",
       "    .dataframe tbody tr th {\n",
       "        vertical-align: top;\n",
       "    }\n",
       "\n",
       "    .dataframe thead th {\n",
       "        text-align: right;\n",
       "    }\n",
       "</style>\n",
       "<table border=\"1\" class=\"dataframe\">\n",
       "  <thead>\n",
       "    <tr style=\"text-align: right;\">\n",
       "      <th></th>\n",
       "      <th>Size</th>\n",
       "      <th>Type</th>\n",
       "      <th>Branded Name</th>\n",
       "      <th>Generic Name</th>\n",
       "      <th>part_no</th>\n",
       "    </tr>\n",
       "  </thead>\n",
       "  <tbody>\n",
       "    <tr>\n",
       "      <th>0</th>\n",
       "      <td>200 mg</td>\n",
       "      <td>tablet</td>\n",
       "      <td>NaN</td>\n",
       "      <td>aciclovir</td>\n",
       "      <td>1</td>\n",
       "    </tr>\n",
       "    <tr>\n",
       "      <th>1</th>\n",
       "      <td>100 mg</td>\n",
       "      <td>tablet</td>\n",
       "      <td>NaN</td>\n",
       "      <td>allopurinol</td>\n",
       "      <td>2</td>\n",
       "    </tr>\n",
       "    <tr>\n",
       "      <th>2</th>\n",
       "      <td>300 mg</td>\n",
       "      <td>tablet</td>\n",
       "      <td>NaN</td>\n",
       "      <td>allopurinol</td>\n",
       "      <td>3</td>\n",
       "    </tr>\n",
       "    <tr>\n",
       "      <th>3</th>\n",
       "      <td>15 mg/60 ml</td>\n",
       "      <td>syrup</td>\n",
       "      <td>mucosolve</td>\n",
       "      <td>ambroxol</td>\n",
       "      <td>4</td>\n",
       "    </tr>\n",
       "    <tr>\n",
       "      <th>4</th>\n",
       "      <td>30 mg/60 ml</td>\n",
       "      <td>syrup</td>\n",
       "      <td>mucosolve</td>\n",
       "      <td>ambroxol</td>\n",
       "      <td>5</td>\n",
       "    </tr>\n",
       "    <tr>\n",
       "      <th>5</th>\n",
       "      <td>125 mg/60 ml</td>\n",
       "      <td>syrup</td>\n",
       "      <td>cisflem</td>\n",
       "      <td>carbo</td>\n",
       "      <td>6</td>\n",
       "    </tr>\n",
       "    <tr>\n",
       "      <th>6</th>\n",
       "      <td>125 mg/60 ml</td>\n",
       "      <td>syrup</td>\n",
       "      <td>NaN</td>\n",
       "      <td>Amoxicillin</td>\n",
       "      <td>13</td>\n",
       "    </tr>\n",
       "  </tbody>\n",
       "</table>\n",
       "</div>"
      ],
      "text/plain": [
       "           Size    Type Branded Name Generic Name  part_no\n",
       "0        200 mg  tablet          NaN    aciclovir        1\n",
       "1        100 mg  tablet          NaN  allopurinol        2\n",
       "2        300 mg  tablet          NaN  allopurinol        3\n",
       "3   15 mg/60 ml   syrup    mucosolve     ambroxol        4\n",
       "4   30 mg/60 ml   syrup    mucosolve     ambroxol        5\n",
       "5  125 mg/60 ml   syrup      cisflem        carbo        6\n",
       "6  125 mg/60 ml   syrup          NaN  Amoxicillin       13"
      ]
     },
     "execution_count": 3,
     "metadata": {},
     "output_type": "execute_result"
    }
   ],
   "source": [
    "data_entry"
   ]
  },
  {
   "cell_type": "code",
   "execution_count": 4,
   "id": "danish-reform",
   "metadata": {},
   "outputs": [],
   "source": [
    "### Create an excel sheet for the Product_Type ###"
   ]
  },
  {
   "cell_type": "code",
   "execution_count": 5,
   "id": "thermal-correction",
   "metadata": {},
   "outputs": [
    {
     "data": {
      "text/plain": [
       "0    Tablet\n",
       "1    Tablet\n",
       "2    Tablet\n",
       "3     Syrup\n",
       "4     Syrup\n",
       "5     Syrup\n",
       "6     Syrup\n",
       "Name: Type, dtype: object"
      ]
     },
     "execution_count": 5,
     "metadata": {},
     "output_type": "execute_result"
    }
   ],
   "source": [
    "data_entry_type = data_entry['Type'].str.capitalize()\n",
    "data_entry_type"
   ]
  },
  {
   "cell_type": "code",
   "execution_count": 6,
   "id": "historical-scanner",
   "metadata": {},
   "outputs": [
    {
     "data": {
      "text/plain": [
       "array(['Tablet', 'Syrup'], dtype=object)"
      ]
     },
     "execution_count": 6,
     "metadata": {},
     "output_type": "execute_result"
    }
   ],
   "source": [
    "unique_type_values = data_entry_type.unique()\n",
    "unique_type_values"
   ]
  },
  {
   "cell_type": "code",
   "execution_count": 7,
   "id": "perfect-banks",
   "metadata": {},
   "outputs": [
    {
     "data": {
      "text/html": [
       "<div>\n",
       "<style scoped>\n",
       "    .dataframe tbody tr th:only-of-type {\n",
       "        vertical-align: middle;\n",
       "    }\n",
       "\n",
       "    .dataframe tbody tr th {\n",
       "        vertical-align: top;\n",
       "    }\n",
       "\n",
       "    .dataframe thead th {\n",
       "        text-align: right;\n",
       "    }\n",
       "</style>\n",
       "<table border=\"1\" class=\"dataframe\">\n",
       "  <thead>\n",
       "    <tr style=\"text-align: right;\">\n",
       "      <th></th>\n",
       "      <th>Type</th>\n",
       "    </tr>\n",
       "  </thead>\n",
       "  <tbody>\n",
       "    <tr>\n",
       "      <th>0</th>\n",
       "      <td>Tablet</td>\n",
       "    </tr>\n",
       "    <tr>\n",
       "      <th>1</th>\n",
       "      <td>Syrup</td>\n",
       "    </tr>\n",
       "  </tbody>\n",
       "</table>\n",
       "</div>"
      ],
      "text/plain": [
       "     Type\n",
       "0  Tablet\n",
       "1   Syrup"
      ]
     },
     "execution_count": 7,
     "metadata": {},
     "output_type": "execute_result"
    }
   ],
   "source": [
    "clean_type = pd.DataFrame(unique_type_values).rename(columns={0: 'Type'})\n",
    "clean_type"
   ]
  },
  {
   "cell_type": "code",
   "execution_count": 8,
   "id": "oriented-plaintiff",
   "metadata": {},
   "outputs": [],
   "source": [
    "# clean_type.to_excel('clean/type.xlsx', sheet_name='type', index=0)"
   ]
  },
  {
   "cell_type": "code",
   "execution_count": 9,
   "id": "derived-pakistan",
   "metadata": {},
   "outputs": [],
   "source": [
    "### Create an excel sheet for the Product_Size ###"
   ]
  },
  {
   "cell_type": "code",
   "execution_count": 10,
   "id": "prompt-interaction",
   "metadata": {},
   "outputs": [],
   "source": [
    "data_entry['Type'] = data_entry['Type'].str.capitalize()\n",
    "# data_entry"
   ]
  },
  {
   "cell_type": "code",
   "execution_count": 11,
   "id": "central-landscape",
   "metadata": {},
   "outputs": [],
   "source": [
    "data_entry_size = data_entry[['Size', 'Type']]\n",
    "# data_entry_size\n"
   ]
  },
  {
   "cell_type": "code",
   "execution_count": 12,
   "id": "aquatic-engineer",
   "metadata": {},
   "outputs": [],
   "source": [
    "unique_size_group_by = data_entry_size.groupby(['Size','Type'])\n",
    "unique_size_count = pd.DataFrame({'count': unique_size_group_by.size()}).reset_index()\n",
    "unique_size = unique_size_count[['Size', 'Type']]\n",
    "# unique_size"
   ]
  },
  {
   "cell_type": "code",
   "execution_count": 13,
   "id": "active-avatar",
   "metadata": {},
   "outputs": [
    {
     "data": {
      "text/html": [
       "<div>\n",
       "<style scoped>\n",
       "    .dataframe tbody tr th:only-of-type {\n",
       "        vertical-align: middle;\n",
       "    }\n",
       "\n",
       "    .dataframe tbody tr th {\n",
       "        vertical-align: top;\n",
       "    }\n",
       "\n",
       "    .dataframe thead th {\n",
       "        text-align: right;\n",
       "    }\n",
       "</style>\n",
       "<table border=\"1\" class=\"dataframe\">\n",
       "  <thead>\n",
       "    <tr style=\"text-align: right;\">\n",
       "      <th></th>\n",
       "      <th>Size</th>\n",
       "      <th>Type</th>\n",
       "      <th>Date Added</th>\n",
       "    </tr>\n",
       "  </thead>\n",
       "  <tbody>\n",
       "    <tr>\n",
       "      <th>0</th>\n",
       "      <td>100 mg</td>\n",
       "      <td>Tablet</td>\n",
       "      <td>2021-02-04</td>\n",
       "    </tr>\n",
       "    <tr>\n",
       "      <th>1</th>\n",
       "      <td>125 mg/60 ml</td>\n",
       "      <td>Syrup</td>\n",
       "      <td>2021-02-04</td>\n",
       "    </tr>\n",
       "    <tr>\n",
       "      <th>2</th>\n",
       "      <td>15 mg/60 ml</td>\n",
       "      <td>Syrup</td>\n",
       "      <td>2021-02-04</td>\n",
       "    </tr>\n",
       "    <tr>\n",
       "      <th>3</th>\n",
       "      <td>200 mg</td>\n",
       "      <td>Tablet</td>\n",
       "      <td>2021-02-04</td>\n",
       "    </tr>\n",
       "    <tr>\n",
       "      <th>4</th>\n",
       "      <td>30 mg/60 ml</td>\n",
       "      <td>Syrup</td>\n",
       "      <td>2021-02-04</td>\n",
       "    </tr>\n",
       "    <tr>\n",
       "      <th>5</th>\n",
       "      <td>300 mg</td>\n",
       "      <td>Tablet</td>\n",
       "      <td>2021-02-04</td>\n",
       "    </tr>\n",
       "  </tbody>\n",
       "</table>\n",
       "</div>"
      ],
      "text/plain": [
       "           Size    Type  Date Added\n",
       "0        100 mg  Tablet  2021-02-04\n",
       "1  125 mg/60 ml   Syrup  2021-02-04\n",
       "2   15 mg/60 ml   Syrup  2021-02-04\n",
       "3        200 mg  Tablet  2021-02-04\n",
       "4   30 mg/60 ml   Syrup  2021-02-04\n",
       "5        300 mg  Tablet  2021-02-04"
      ]
     },
     "execution_count": 13,
     "metadata": {},
     "output_type": "execute_result"
    }
   ],
   "source": [
    "unique_size['Date Added'] = pd.to_datetime('today').strftime(\"%Y-%m-%d\")\n",
    "# unique_size_renamed = unique_size.rename(columns={'Size': 'Product Size'})\n",
    "unique_size"
   ]
  },
  {
   "cell_type": "code",
   "execution_count": 14,
   "id": "collective-blink",
   "metadata": {},
   "outputs": [],
   "source": [
    "# unique_size.to_excel('clean/size.xlsx', sheet_name='size', index=0)"
   ]
  },
  {
   "cell_type": "code",
   "execution_count": 15,
   "id": "convinced-console",
   "metadata": {},
   "outputs": [],
   "source": [
    "### Create an excel sheet for the Product_Name ###"
   ]
  },
  {
   "cell_type": "code",
   "execution_count": 16,
   "id": "remarkable-report",
   "metadata": {},
   "outputs": [
    {
     "data": {
      "text/html": [
       "<div>\n",
       "<style scoped>\n",
       "    .dataframe tbody tr th:only-of-type {\n",
       "        vertical-align: middle;\n",
       "    }\n",
       "\n",
       "    .dataframe tbody tr th {\n",
       "        vertical-align: top;\n",
       "    }\n",
       "\n",
       "    .dataframe thead th {\n",
       "        text-align: right;\n",
       "    }\n",
       "</style>\n",
       "<table border=\"1\" class=\"dataframe\">\n",
       "  <thead>\n",
       "    <tr style=\"text-align: right;\">\n",
       "      <th></th>\n",
       "      <th>Generic Name</th>\n",
       "      <th>Branded Name</th>\n",
       "    </tr>\n",
       "  </thead>\n",
       "  <tbody>\n",
       "    <tr>\n",
       "      <th>0</th>\n",
       "      <td>Aciclovir</td>\n",
       "      <td>NaN</td>\n",
       "    </tr>\n",
       "    <tr>\n",
       "      <th>1</th>\n",
       "      <td>Allopurinol</td>\n",
       "      <td>NaN</td>\n",
       "    </tr>\n",
       "    <tr>\n",
       "      <th>2</th>\n",
       "      <td>Allopurinol</td>\n",
       "      <td>NaN</td>\n",
       "    </tr>\n",
       "    <tr>\n",
       "      <th>3</th>\n",
       "      <td>Ambroxol</td>\n",
       "      <td>Mucosolve</td>\n",
       "    </tr>\n",
       "    <tr>\n",
       "      <th>4</th>\n",
       "      <td>Ambroxol</td>\n",
       "      <td>Mucosolve</td>\n",
       "    </tr>\n",
       "    <tr>\n",
       "      <th>5</th>\n",
       "      <td>Carbo</td>\n",
       "      <td>Cisflem</td>\n",
       "    </tr>\n",
       "    <tr>\n",
       "      <th>6</th>\n",
       "      <td>Amoxicillin</td>\n",
       "      <td>NaN</td>\n",
       "    </tr>\n",
       "  </tbody>\n",
       "</table>\n",
       "</div>"
      ],
      "text/plain": [
       "  Generic Name Branded Name\n",
       "0    Aciclovir          NaN\n",
       "1  Allopurinol          NaN\n",
       "2  Allopurinol          NaN\n",
       "3     Ambroxol    Mucosolve\n",
       "4     Ambroxol    Mucosolve\n",
       "5        Carbo      Cisflem\n",
       "6  Amoxicillin          NaN"
      ]
     },
     "execution_count": 16,
     "metadata": {},
     "output_type": "execute_result"
    }
   ],
   "source": [
    "data_entry['Generic Name'] = data_entry['Generic Name'].str.capitalize()\n",
    "data_entry['Branded Name'] = data_entry['Branded Name'].str.capitalize()\n",
    "data_entry_name = data_entry[['Generic Name', 'Branded Name']]\n",
    "data_entry_name"
   ]
  },
  {
   "cell_type": "code",
   "execution_count": 17,
   "id": "accessory-petroleum",
   "metadata": {
    "scrolled": true
   },
   "outputs": [
    {
     "data": {
      "text/html": [
       "<div>\n",
       "<style scoped>\n",
       "    .dataframe tbody tr th:only-of-type {\n",
       "        vertical-align: middle;\n",
       "    }\n",
       "\n",
       "    .dataframe tbody tr th {\n",
       "        vertical-align: top;\n",
       "    }\n",
       "\n",
       "    .dataframe thead th {\n",
       "        text-align: right;\n",
       "    }\n",
       "</style>\n",
       "<table border=\"1\" class=\"dataframe\">\n",
       "  <thead>\n",
       "    <tr style=\"text-align: right;\">\n",
       "      <th></th>\n",
       "      <th>Generic Name</th>\n",
       "      <th>Branded Name</th>\n",
       "    </tr>\n",
       "  </thead>\n",
       "  <tbody>\n",
       "    <tr>\n",
       "      <th>0</th>\n",
       "      <td>Aciclovir</td>\n",
       "      <td></td>\n",
       "    </tr>\n",
       "    <tr>\n",
       "      <th>1</th>\n",
       "      <td>Allopurinol</td>\n",
       "      <td></td>\n",
       "    </tr>\n",
       "    <tr>\n",
       "      <th>2</th>\n",
       "      <td>Ambroxol</td>\n",
       "      <td>Mucosolve</td>\n",
       "    </tr>\n",
       "    <tr>\n",
       "      <th>3</th>\n",
       "      <td>Amoxicillin</td>\n",
       "      <td></td>\n",
       "    </tr>\n",
       "    <tr>\n",
       "      <th>4</th>\n",
       "      <td>Carbo</td>\n",
       "      <td>Cisflem</td>\n",
       "    </tr>\n",
       "  </tbody>\n",
       "</table>\n",
       "</div>"
      ],
      "text/plain": [
       "  Generic Name Branded Name\n",
       "0    Aciclovir             \n",
       "1  Allopurinol             \n",
       "2     Ambroxol    Mucosolve\n",
       "3  Amoxicillin             \n",
       "4        Carbo      Cisflem"
      ]
     },
     "execution_count": 17,
     "metadata": {},
     "output_type": "execute_result"
    }
   ],
   "source": [
    "unique_name_group_by = data_entry_name.fillna(-1).groupby(['Generic Name','Branded Name'])\n",
    "unique_name_count = pd.DataFrame({'count': unique_name_group_by.size()}).reset_index()\n",
    "unique_name = unique_name_count[['Generic Name', 'Branded Name']]\n",
    "unique_name = unique_name.replace(-1, '')\n",
    "unique_name"
   ]
  },
  {
   "cell_type": "code",
   "execution_count": 18,
   "id": "dependent-penguin",
   "metadata": {},
   "outputs": [
    {
     "data": {
      "text/html": [
       "<div>\n",
       "<style scoped>\n",
       "    .dataframe tbody tr th:only-of-type {\n",
       "        vertical-align: middle;\n",
       "    }\n",
       "\n",
       "    .dataframe tbody tr th {\n",
       "        vertical-align: top;\n",
       "    }\n",
       "\n",
       "    .dataframe thead th {\n",
       "        text-align: right;\n",
       "    }\n",
       "</style>\n",
       "<table border=\"1\" class=\"dataframe\">\n",
       "  <thead>\n",
       "    <tr style=\"text-align: right;\">\n",
       "      <th></th>\n",
       "      <th>Generic Name</th>\n",
       "      <th>Branded Name</th>\n",
       "      <th>Date Added</th>\n",
       "    </tr>\n",
       "  </thead>\n",
       "  <tbody>\n",
       "    <tr>\n",
       "      <th>0</th>\n",
       "      <td>Aciclovir</td>\n",
       "      <td></td>\n",
       "      <td>2021-02-04</td>\n",
       "    </tr>\n",
       "    <tr>\n",
       "      <th>1</th>\n",
       "      <td>Allopurinol</td>\n",
       "      <td></td>\n",
       "      <td>2021-02-04</td>\n",
       "    </tr>\n",
       "    <tr>\n",
       "      <th>2</th>\n",
       "      <td>Ambroxol</td>\n",
       "      <td>Mucosolve</td>\n",
       "      <td>2021-02-04</td>\n",
       "    </tr>\n",
       "    <tr>\n",
       "      <th>3</th>\n",
       "      <td>Amoxicillin</td>\n",
       "      <td></td>\n",
       "      <td>2021-02-04</td>\n",
       "    </tr>\n",
       "    <tr>\n",
       "      <th>4</th>\n",
       "      <td>Carbo</td>\n",
       "      <td>Cisflem</td>\n",
       "      <td>2021-02-04</td>\n",
       "    </tr>\n",
       "  </tbody>\n",
       "</table>\n",
       "</div>"
      ],
      "text/plain": [
       "  Generic Name Branded Name  Date Added\n",
       "0    Aciclovir               2021-02-04\n",
       "1  Allopurinol               2021-02-04\n",
       "2     Ambroxol    Mucosolve  2021-02-04\n",
       "3  Amoxicillin               2021-02-04\n",
       "4        Carbo      Cisflem  2021-02-04"
      ]
     },
     "execution_count": 18,
     "metadata": {},
     "output_type": "execute_result"
    }
   ],
   "source": [
    "unique_name['Date Added'] = pd.to_datetime('today').strftime(\"%Y-%m-%d\")\n",
    "# unique_size_renamed = unique_size.rename(columns={'Size': 'Product Size'})\n",
    "unique_name"
   ]
  },
  {
   "cell_type": "code",
   "execution_count": 19,
   "id": "neutral-jewel",
   "metadata": {},
   "outputs": [],
   "source": [
    "unique_name.to_excel('clean/name.xlsx', sheet_name='name', index=0)"
   ]
  }
 ],
 "metadata": {
  "kernelspec": {
   "display_name": "Python 3",
   "language": "python",
   "name": "python3"
  },
  "language_info": {
   "codemirror_mode": {
    "name": "ipython",
    "version": 3
   },
   "file_extension": ".py",
   "mimetype": "text/x-python",
   "name": "python",
   "nbconvert_exporter": "python",
   "pygments_lexer": "ipython3",
   "version": "3.8.5"
  }
 },
 "nbformat": 4,
 "nbformat_minor": 5
}
