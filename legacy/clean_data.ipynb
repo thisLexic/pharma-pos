{
 "cells": [
  {
   "cell_type": "code",
   "execution_count": 1,
   "id": "subsequent-burke",
   "metadata": {},
   "outputs": [],
   "source": [
    "import numpy as np\n",
    "import pandas as pd"
   ]
  },
  {
   "cell_type": "code",
   "execution_count": 2,
   "id": "french-fitness",
   "metadata": {},
   "outputs": [],
   "source": [
    "data_entry = pd.read_csv('unclean/data_entry.csv')"
   ]
  },
  {
   "cell_type": "code",
   "execution_count": 3,
   "id": "falling-bunny",
   "metadata": {},
   "outputs": [],
   "source": [
    "# data_entry"
   ]
  },
  {
   "cell_type": "code",
   "execution_count": 4,
   "id": "danish-reform",
   "metadata": {},
   "outputs": [],
   "source": [
    "### Create an excel sheet for the Product_Type ###"
   ]
  },
  {
   "cell_type": "code",
   "execution_count": 5,
   "id": "thermal-correction",
   "metadata": {},
   "outputs": [],
   "source": [
    "data_entry_type = data_entry['Type'].str.capitalize()\n",
    "# data_entry_type"
   ]
  },
  {
   "cell_type": "code",
   "execution_count": 6,
   "id": "historical-scanner",
   "metadata": {},
   "outputs": [
    {
     "data": {
      "text/plain": [
       "array(['Tablet', 'Syrup'], dtype=object)"
      ]
     },
     "execution_count": 6,
     "metadata": {},
     "output_type": "execute_result"
    }
   ],
   "source": [
    "unique_type_values = data_entry_type.unique()\n",
    "unique_type_values"
   ]
  },
  {
   "cell_type": "code",
   "execution_count": 7,
   "id": "perfect-banks",
   "metadata": {},
   "outputs": [],
   "source": [
    "clean_type = pd.DataFrame(unique_type_values).rename(columns={0: 'Type'})\n",
    "# clean_type"
   ]
  },
  {
   "cell_type": "code",
   "execution_count": 8,
   "id": "oriented-plaintiff",
   "metadata": {},
   "outputs": [],
   "source": [
    "# clean_type.to_excel('clean/type.xlsx', sheet_name='type', index=0)"
   ]
  },
  {
   "cell_type": "code",
   "execution_count": 9,
   "id": "derived-pakistan",
   "metadata": {},
   "outputs": [],
   "source": [
    "### Create an excel sheet for the Product_Size ###"
   ]
  },
  {
   "cell_type": "code",
   "execution_count": 10,
   "id": "prompt-interaction",
   "metadata": {},
   "outputs": [],
   "source": [
    "data_entry['Type'] = data_entry['Type'].str.capitalize()\n",
    "# data_entry"
   ]
  },
  {
   "cell_type": "code",
   "execution_count": 11,
   "id": "central-landscape",
   "metadata": {},
   "outputs": [],
   "source": [
    "data_entry_size = data_entry[['Size', 'Type']]\n",
    "# data_entry_size\n"
   ]
  },
  {
   "cell_type": "code",
   "execution_count": 12,
   "id": "aquatic-engineer",
   "metadata": {},
   "outputs": [],
   "source": [
    "unique_size_group_by = data_entry_size.groupby(['Size','Type'])\n",
    "unique_size_count = pd.DataFrame({'count': unique_size_group_by.size()}).reset_index()\n",
    "unique_size = unique_size_count[['Size', 'Type']]\n",
    "# unique_size"
   ]
  },
  {
   "cell_type": "code",
   "execution_count": 13,
   "id": "active-avatar",
   "metadata": {},
   "outputs": [],
   "source": [
    "unique_size['Date Added'] = pd.to_datetime('today').strftime(\"%Y-%m-%d\")\n",
    "# unique_size_renamed = unique_size.rename(columns={'Size': 'Product Size'})\n",
    "# unique_size"
   ]
  },
  {
   "cell_type": "code",
   "execution_count": 14,
   "id": "collective-blink",
   "metadata": {},
   "outputs": [],
   "source": [
    "# unique_size.to_excel('clean/size.xlsx', sheet_name='size', index=0)"
   ]
  },
  {
   "cell_type": "code",
   "execution_count": 15,
   "id": "pressing-facial",
   "metadata": {},
   "outputs": [],
   "source": [
    "### Create an excel sheet for the Product_Name ###"
   ]
  },
  {
   "cell_type": "code",
   "execution_count": 16,
   "id": "welsh-reset",
   "metadata": {},
   "outputs": [],
   "source": [
    "data_entry['Generic Name'] = data_entry['Generic Name'].str.capitalize()\n",
    "data_entry['Branded Name'] = data_entry['Branded Name'].str.capitalize()\n",
    "data_entry_name = data_entry[['Generic Name', 'Branded Name']]\n",
    "# data_entry_name"
   ]
  },
  {
   "cell_type": "code",
   "execution_count": 17,
   "id": "honest-publisher",
   "metadata": {
    "scrolled": true
   },
   "outputs": [],
   "source": [
    "unique_name_group_by = data_entry_name.fillna(-1).groupby(['Generic Name','Branded Name'])\n",
    "unique_name_count = pd.DataFrame({'count': unique_name_group_by.size()}).reset_index()\n",
    "unique_name = unique_name_count[['Generic Name', 'Branded Name']]\n",
    "unique_name = unique_name.replace(-1, '')\n",
    "# unique_name"
   ]
  },
  {
   "cell_type": "code",
   "execution_count": 18,
   "id": "ancient-heading",
   "metadata": {},
   "outputs": [],
   "source": [
    "unique_name['Date Added'] = pd.to_datetime('today').strftime(\"%Y-%m-%d\")\n",
    "# unique_size_renamed = unique_size.rename(columns={'Size': 'Product Size'})\n",
    "# unique_name"
   ]
  },
  {
   "cell_type": "code",
   "execution_count": 19,
   "id": "psychological-baltimore",
   "metadata": {},
   "outputs": [],
   "source": [
    "# unique_name.to_excel('clean/name.xlsx', sheet_name='name', index=0)"
   ]
  }
 ],
 "metadata": {
  "kernelspec": {
   "display_name": "Python 3",
   "language": "python",
   "name": "python3"
  },
  "language_info": {
   "codemirror_mode": {
    "name": "ipython",
    "version": 3
   },
   "file_extension": ".py",
   "mimetype": "text/x-python",
   "name": "python",
   "nbconvert_exporter": "python",
   "pygments_lexer": "ipython3",
   "version": "3.8.5"
  }
 },
 "nbformat": 4,
 "nbformat_minor": 5
}
